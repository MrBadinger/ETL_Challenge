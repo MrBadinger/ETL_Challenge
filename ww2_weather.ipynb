{
 "metadata": {
  "language_info": {
   "codemirror_mode": {
    "name": "ipython",
    "version": 3
   },
   "file_extension": ".py",
   "mimetype": "text/x-python",
   "name": "python",
   "nbconvert_exporter": "python",
   "pygments_lexer": "ipython3",
   "version": "3.6.10-final"
  },
  "orig_nbformat": 2,
  "kernelspec": {
   "name": "python3",
   "display_name": "Python 3",
   "language": "python"
  }
 },
 "nbformat": 4,
 "nbformat_minor": 2,
 "cells": [
  {
   "cell_type": "code",
   "execution_count": 1,
   "metadata": {},
   "outputs": [],
   "source": [
    "import pandas as pd\n"
   ]
  },
  {
   "cell_type": "code",
   "execution_count": 3,
   "metadata": {},
   "outputs": [
    {
     "output_type": "execute_result",
     "data": {
      "text/plain": [
       "         WBAN        NAME STATE/COUNTRY ID    LAT     LON  ELEV   Latitude  \\\n",
       "0       33013      AIN EL               AL  3623N  00637E   611  36.383333   \n",
       "1       33013      AIN EL               AL  3623N  00637E   611  36.383333   \n",
       "2       33013      AIN EL               AL  3623N  00637E   611  36.383333   \n",
       "3       33013      AIN EL               AL  3623N  00637E   611  36.383333   \n",
       "4       33013      AIN EL               AL  3623N  00637E   611  36.383333   \n",
       "...       ...         ...              ...    ...     ...   ...        ...   \n",
       "119037  15027  WARRINGTON               UK  5323N  00239W    27  53.383333   \n",
       "119038  15027  WARRINGTON               UK  5323N  00239W    27  53.383333   \n",
       "119039  15027  WARRINGTON               UK  5323N  00239W    27  53.383333   \n",
       "119040  15027  WARRINGTON               UK  5323N  00239W    27  53.383333   \n",
       "119041  15027  WARRINGTON               UK  5323N  00239W    27  53.383333   \n",
       "\n",
       "        Longitude      STA        Date  ...  FB  FTI  ITH  PGT  TSHDSBRSGF  \\\n",
       "0            6.65  33013.0   1943-3-11  ... NaN  NaN  NaN  NaN         NaN   \n",
       "1            6.65  33013.0   1943-3-12  ... NaN  NaN  NaN  NaN         NaN   \n",
       "2            6.65  33013.0   1943-3-13  ... NaN  NaN  NaN  NaN         NaN   \n",
       "3            6.65  33013.0   1943-3-14  ... NaN  NaN  NaN  NaN         NaN   \n",
       "4            6.65  33013.0   1943-3-15  ... NaN  NaN  NaN  NaN         NaN   \n",
       "...           ...      ...         ...  ...  ..  ...  ...  ...         ...   \n",
       "119037      -2.05  15027.0  1945-10-18  ... NaN  NaN  NaN  NaN         NaN   \n",
       "119038      -2.05  15027.0  1945-10-19  ... NaN  NaN  NaN  NaN         NaN   \n",
       "119039      -2.05  15027.0  1945-10-20  ... NaN  NaN  NaN  NaN         NaN   \n",
       "119040      -2.05  15027.0  1945-10-21  ... NaN  NaN  NaN  NaN         NaN   \n",
       "119041      -2.05  15027.0  1945-10-22  ... NaN  NaN  NaN  NaN         NaN   \n",
       "\n",
       "       SD3 RHX  RHN  RVG  WTE  \n",
       "0      NaN NaN  NaN  NaN  NaN  \n",
       "1      NaN NaN  NaN  NaN  NaN  \n",
       "2      NaN NaN  NaN  NaN  NaN  \n",
       "3      NaN NaN  NaN  NaN  NaN  \n",
       "4      NaN NaN  NaN  NaN  NaN  \n",
       "...     ..  ..  ...  ...  ...  \n",
       "119037 NaN NaN  NaN  NaN  NaN  \n",
       "119038 NaN NaN  NaN  NaN  NaN  \n",
       "119039 NaN NaN  NaN  NaN  NaN  \n",
       "119040 NaN NaN  NaN  NaN  NaN  \n",
       "119041 NaN NaN  NaN  NaN  NaN  \n",
       "\n",
       "[119042 rows x 39 columns]"
      ],
      "text/html": "<div>\n<style scoped>\n    .dataframe tbody tr th:only-of-type {\n        vertical-align: middle;\n    }\n\n    .dataframe tbody tr th {\n        vertical-align: top;\n    }\n\n    .dataframe thead th {\n        text-align: right;\n    }\n</style>\n<table border=\"1\" class=\"dataframe\">\n  <thead>\n    <tr style=\"text-align: right;\">\n      <th></th>\n      <th>WBAN</th>\n      <th>NAME</th>\n      <th>STATE/COUNTRY ID</th>\n      <th>LAT</th>\n      <th>LON</th>\n      <th>ELEV</th>\n      <th>Latitude</th>\n      <th>Longitude</th>\n      <th>STA</th>\n      <th>Date</th>\n      <th>...</th>\n      <th>FB</th>\n      <th>FTI</th>\n      <th>ITH</th>\n      <th>PGT</th>\n      <th>TSHDSBRSGF</th>\n      <th>SD3</th>\n      <th>RHX</th>\n      <th>RHN</th>\n      <th>RVG</th>\n      <th>WTE</th>\n    </tr>\n  </thead>\n  <tbody>\n    <tr>\n      <th>0</th>\n      <td>33013</td>\n      <td>AIN EL</td>\n      <td>AL</td>\n      <td>3623N</td>\n      <td>00637E</td>\n      <td>611</td>\n      <td>36.383333</td>\n      <td>6.65</td>\n      <td>33013.0</td>\n      <td>1943-3-11</td>\n      <td>...</td>\n      <td>NaN</td>\n      <td>NaN</td>\n      <td>NaN</td>\n      <td>NaN</td>\n      <td>NaN</td>\n      <td>NaN</td>\n      <td>NaN</td>\n      <td>NaN</td>\n      <td>NaN</td>\n      <td>NaN</td>\n    </tr>\n    <tr>\n      <th>1</th>\n      <td>33013</td>\n      <td>AIN EL</td>\n      <td>AL</td>\n      <td>3623N</td>\n      <td>00637E</td>\n      <td>611</td>\n      <td>36.383333</td>\n      <td>6.65</td>\n      <td>33013.0</td>\n      <td>1943-3-12</td>\n      <td>...</td>\n      <td>NaN</td>\n      <td>NaN</td>\n      <td>NaN</td>\n      <td>NaN</td>\n      <td>NaN</td>\n      <td>NaN</td>\n      <td>NaN</td>\n      <td>NaN</td>\n      <td>NaN</td>\n      <td>NaN</td>\n    </tr>\n    <tr>\n      <th>2</th>\n      <td>33013</td>\n      <td>AIN EL</td>\n      <td>AL</td>\n      <td>3623N</td>\n      <td>00637E</td>\n      <td>611</td>\n      <td>36.383333</td>\n      <td>6.65</td>\n      <td>33013.0</td>\n      <td>1943-3-13</td>\n      <td>...</td>\n      <td>NaN</td>\n      <td>NaN</td>\n      <td>NaN</td>\n      <td>NaN</td>\n      <td>NaN</td>\n      <td>NaN</td>\n      <td>NaN</td>\n      <td>NaN</td>\n      <td>NaN</td>\n      <td>NaN</td>\n    </tr>\n    <tr>\n      <th>3</th>\n      <td>33013</td>\n      <td>AIN EL</td>\n      <td>AL</td>\n      <td>3623N</td>\n      <td>00637E</td>\n      <td>611</td>\n      <td>36.383333</td>\n      <td>6.65</td>\n      <td>33013.0</td>\n      <td>1943-3-14</td>\n      <td>...</td>\n      <td>NaN</td>\n      <td>NaN</td>\n      <td>NaN</td>\n      <td>NaN</td>\n      <td>NaN</td>\n      <td>NaN</td>\n      <td>NaN</td>\n      <td>NaN</td>\n      <td>NaN</td>\n      <td>NaN</td>\n    </tr>\n    <tr>\n      <th>4</th>\n      <td>33013</td>\n      <td>AIN EL</td>\n      <td>AL</td>\n      <td>3623N</td>\n      <td>00637E</td>\n      <td>611</td>\n      <td>36.383333</td>\n      <td>6.65</td>\n      <td>33013.0</td>\n      <td>1943-3-15</td>\n      <td>...</td>\n      <td>NaN</td>\n      <td>NaN</td>\n      <td>NaN</td>\n      <td>NaN</td>\n      <td>NaN</td>\n      <td>NaN</td>\n      <td>NaN</td>\n      <td>NaN</td>\n      <td>NaN</td>\n      <td>NaN</td>\n    </tr>\n    <tr>\n      <th>...</th>\n      <td>...</td>\n      <td>...</td>\n      <td>...</td>\n      <td>...</td>\n      <td>...</td>\n      <td>...</td>\n      <td>...</td>\n      <td>...</td>\n      <td>...</td>\n      <td>...</td>\n      <td>...</td>\n      <td>...</td>\n      <td>...</td>\n      <td>...</td>\n      <td>...</td>\n      <td>...</td>\n      <td>...</td>\n      <td>...</td>\n      <td>...</td>\n      <td>...</td>\n      <td>...</td>\n    </tr>\n    <tr>\n      <th>119037</th>\n      <td>15027</td>\n      <td>WARRINGTON</td>\n      <td>UK</td>\n      <td>5323N</td>\n      <td>00239W</td>\n      <td>27</td>\n      <td>53.383333</td>\n      <td>-2.05</td>\n      <td>15027.0</td>\n      <td>1945-10-18</td>\n      <td>...</td>\n      <td>NaN</td>\n      <td>NaN</td>\n      <td>NaN</td>\n      <td>NaN</td>\n      <td>NaN</td>\n      <td>NaN</td>\n      <td>NaN</td>\n      <td>NaN</td>\n      <td>NaN</td>\n      <td>NaN</td>\n    </tr>\n    <tr>\n      <th>119038</th>\n      <td>15027</td>\n      <td>WARRINGTON</td>\n      <td>UK</td>\n      <td>5323N</td>\n      <td>00239W</td>\n      <td>27</td>\n      <td>53.383333</td>\n      <td>-2.05</td>\n      <td>15027.0</td>\n      <td>1945-10-19</td>\n      <td>...</td>\n      <td>NaN</td>\n      <td>NaN</td>\n      <td>NaN</td>\n      <td>NaN</td>\n      <td>NaN</td>\n      <td>NaN</td>\n      <td>NaN</td>\n      <td>NaN</td>\n      <td>NaN</td>\n      <td>NaN</td>\n    </tr>\n    <tr>\n      <th>119039</th>\n      <td>15027</td>\n      <td>WARRINGTON</td>\n      <td>UK</td>\n      <td>5323N</td>\n      <td>00239W</td>\n      <td>27</td>\n      <td>53.383333</td>\n      <td>-2.05</td>\n      <td>15027.0</td>\n      <td>1945-10-20</td>\n      <td>...</td>\n      <td>NaN</td>\n      <td>NaN</td>\n      <td>NaN</td>\n      <td>NaN</td>\n      <td>NaN</td>\n      <td>NaN</td>\n      <td>NaN</td>\n      <td>NaN</td>\n      <td>NaN</td>\n      <td>NaN</td>\n    </tr>\n    <tr>\n      <th>119040</th>\n      <td>15027</td>\n      <td>WARRINGTON</td>\n      <td>UK</td>\n      <td>5323N</td>\n      <td>00239W</td>\n      <td>27</td>\n      <td>53.383333</td>\n      <td>-2.05</td>\n      <td>15027.0</td>\n      <td>1945-10-21</td>\n      <td>...</td>\n      <td>NaN</td>\n      <td>NaN</td>\n      <td>NaN</td>\n      <td>NaN</td>\n      <td>NaN</td>\n      <td>NaN</td>\n      <td>NaN</td>\n      <td>NaN</td>\n      <td>NaN</td>\n      <td>NaN</td>\n    </tr>\n    <tr>\n      <th>119041</th>\n      <td>15027</td>\n      <td>WARRINGTON</td>\n      <td>UK</td>\n      <td>5323N</td>\n      <td>00239W</td>\n      <td>27</td>\n      <td>53.383333</td>\n      <td>-2.05</td>\n      <td>15027.0</td>\n      <td>1945-10-22</td>\n      <td>...</td>\n      <td>NaN</td>\n      <td>NaN</td>\n      <td>NaN</td>\n      <td>NaN</td>\n      <td>NaN</td>\n      <td>NaN</td>\n      <td>NaN</td>\n      <td>NaN</td>\n      <td>NaN</td>\n      <td>NaN</td>\n    </tr>\n  </tbody>\n</table>\n<p>119042 rows × 39 columns</p>\n</div>"
     },
     "metadata": {},
     "execution_count": 3
    }
   ],
   "source": [
    "stations_path = \"Resources/Weather Station Locations.csv\"\n",
    "weather_data_path = \"Resources/Summary of Weather.csv\"\n",
    "\n",
    "stations = pd.read_csv(stations_path)\n",
    "weather_data = pd.read_csv(weather_data_path)\n",
    "\n",
    "weather_station_merged_df = pd.merge(stations, weather_data, left_on=\"WBAN\", right_on=\"STA\", how='outer')\n",
    "weather_station_merged_df"
   ]
  },
  {
   "cell_type": "code",
   "execution_count": 13,
   "metadata": {},
   "outputs": [
    {
     "output_type": "execute_result",
     "data": {
      "text/plain": [
       "         WBAN        NAME STATE/COUNTRY ID  ELEV   Latitude  Longitude  \\\n",
       "0       33013      AIN EL               AL   611  36.383333       6.65   \n",
       "1       33013      AIN EL               AL   611  36.383333       6.65   \n",
       "2       33013      AIN EL               AL   611  36.383333       6.65   \n",
       "3       33013      AIN EL               AL   611  36.383333       6.65   \n",
       "4       33013      AIN EL               AL   611  36.383333       6.65   \n",
       "...       ...         ...              ...   ...        ...        ...   \n",
       "119037  15027  WARRINGTON               UK    27  53.383333      -2.05   \n",
       "119038  15027  WARRINGTON               UK    27  53.383333      -2.05   \n",
       "119039  15027  WARRINGTON               UK    27  53.383333      -2.05   \n",
       "119040  15027  WARRINGTON               UK    27  53.383333      -2.05   \n",
       "119041  15027  WARRINGTON               UK    27  53.383333      -2.05   \n",
       "\n",
       "              Date PRCP  DR  SPD   MAX   MIN   MEA SNF  \n",
       "0        1943-3-11  NaN NaN  NaN  60.0  37.0  48.0   0  \n",
       "1        1943-3-12    0 NaN  NaN  55.0  40.0  48.0   0  \n",
       "2        1943-3-13  NaN NaN  NaN  63.0  37.0  50.0   0  \n",
       "3        1943-3-14  NaN NaN  NaN  50.0  45.0  48.0   0  \n",
       "4        1943-3-15    0 NaN  NaN  58.0  42.0  50.0   0  \n",
       "...            ...  ...  ..  ...   ...   ...   ...  ..  \n",
       "119037  1945-10-18    0 NaN  NaN  54.0  41.0  47.0   0  \n",
       "119038  1945-10-19    0 NaN  NaN  60.0  49.0  54.0   0  \n",
       "119039  1945-10-20  NaN NaN  NaN  60.0  45.0  52.0   0  \n",
       "119040  1945-10-21  NaN NaN  NaN  63.0  54.0  58.0   0  \n",
       "119041  1945-10-22  NaN NaN  NaN  58.0  48.0  53.0   0  \n",
       "\n",
       "[119042 rows x 14 columns]"
      ],
      "text/html": "<div>\n<style scoped>\n    .dataframe tbody tr th:only-of-type {\n        vertical-align: middle;\n    }\n\n    .dataframe tbody tr th {\n        vertical-align: top;\n    }\n\n    .dataframe thead th {\n        text-align: right;\n    }\n</style>\n<table border=\"1\" class=\"dataframe\">\n  <thead>\n    <tr style=\"text-align: right;\">\n      <th></th>\n      <th>WBAN</th>\n      <th>NAME</th>\n      <th>STATE/COUNTRY ID</th>\n      <th>ELEV</th>\n      <th>Latitude</th>\n      <th>Longitude</th>\n      <th>Date</th>\n      <th>PRCP</th>\n      <th>DR</th>\n      <th>SPD</th>\n      <th>MAX</th>\n      <th>MIN</th>\n      <th>MEA</th>\n      <th>SNF</th>\n    </tr>\n  </thead>\n  <tbody>\n    <tr>\n      <th>0</th>\n      <td>33013</td>\n      <td>AIN EL</td>\n      <td>AL</td>\n      <td>611</td>\n      <td>36.383333</td>\n      <td>6.65</td>\n      <td>1943-3-11</td>\n      <td>NaN</td>\n      <td>NaN</td>\n      <td>NaN</td>\n      <td>60.0</td>\n      <td>37.0</td>\n      <td>48.0</td>\n      <td>0</td>\n    </tr>\n    <tr>\n      <th>1</th>\n      <td>33013</td>\n      <td>AIN EL</td>\n      <td>AL</td>\n      <td>611</td>\n      <td>36.383333</td>\n      <td>6.65</td>\n      <td>1943-3-12</td>\n      <td>0</td>\n      <td>NaN</td>\n      <td>NaN</td>\n      <td>55.0</td>\n      <td>40.0</td>\n      <td>48.0</td>\n      <td>0</td>\n    </tr>\n    <tr>\n      <th>2</th>\n      <td>33013</td>\n      <td>AIN EL</td>\n      <td>AL</td>\n      <td>611</td>\n      <td>36.383333</td>\n      <td>6.65</td>\n      <td>1943-3-13</td>\n      <td>NaN</td>\n      <td>NaN</td>\n      <td>NaN</td>\n      <td>63.0</td>\n      <td>37.0</td>\n      <td>50.0</td>\n      <td>0</td>\n    </tr>\n    <tr>\n      <th>3</th>\n      <td>33013</td>\n      <td>AIN EL</td>\n      <td>AL</td>\n      <td>611</td>\n      <td>36.383333</td>\n      <td>6.65</td>\n      <td>1943-3-14</td>\n      <td>NaN</td>\n      <td>NaN</td>\n      <td>NaN</td>\n      <td>50.0</td>\n      <td>45.0</td>\n      <td>48.0</td>\n      <td>0</td>\n    </tr>\n    <tr>\n      <th>4</th>\n      <td>33013</td>\n      <td>AIN EL</td>\n      <td>AL</td>\n      <td>611</td>\n      <td>36.383333</td>\n      <td>6.65</td>\n      <td>1943-3-15</td>\n      <td>0</td>\n      <td>NaN</td>\n      <td>NaN</td>\n      <td>58.0</td>\n      <td>42.0</td>\n      <td>50.0</td>\n      <td>0</td>\n    </tr>\n    <tr>\n      <th>...</th>\n      <td>...</td>\n      <td>...</td>\n      <td>...</td>\n      <td>...</td>\n      <td>...</td>\n      <td>...</td>\n      <td>...</td>\n      <td>...</td>\n      <td>...</td>\n      <td>...</td>\n      <td>...</td>\n      <td>...</td>\n      <td>...</td>\n      <td>...</td>\n    </tr>\n    <tr>\n      <th>119037</th>\n      <td>15027</td>\n      <td>WARRINGTON</td>\n      <td>UK</td>\n      <td>27</td>\n      <td>53.383333</td>\n      <td>-2.05</td>\n      <td>1945-10-18</td>\n      <td>0</td>\n      <td>NaN</td>\n      <td>NaN</td>\n      <td>54.0</td>\n      <td>41.0</td>\n      <td>47.0</td>\n      <td>0</td>\n    </tr>\n    <tr>\n      <th>119038</th>\n      <td>15027</td>\n      <td>WARRINGTON</td>\n      <td>UK</td>\n      <td>27</td>\n      <td>53.383333</td>\n      <td>-2.05</td>\n      <td>1945-10-19</td>\n      <td>0</td>\n      <td>NaN</td>\n      <td>NaN</td>\n      <td>60.0</td>\n      <td>49.0</td>\n      <td>54.0</td>\n      <td>0</td>\n    </tr>\n    <tr>\n      <th>119039</th>\n      <td>15027</td>\n      <td>WARRINGTON</td>\n      <td>UK</td>\n      <td>27</td>\n      <td>53.383333</td>\n      <td>-2.05</td>\n      <td>1945-10-20</td>\n      <td>NaN</td>\n      <td>NaN</td>\n      <td>NaN</td>\n      <td>60.0</td>\n      <td>45.0</td>\n      <td>52.0</td>\n      <td>0</td>\n    </tr>\n    <tr>\n      <th>119040</th>\n      <td>15027</td>\n      <td>WARRINGTON</td>\n      <td>UK</td>\n      <td>27</td>\n      <td>53.383333</td>\n      <td>-2.05</td>\n      <td>1945-10-21</td>\n      <td>NaN</td>\n      <td>NaN</td>\n      <td>NaN</td>\n      <td>63.0</td>\n      <td>54.0</td>\n      <td>58.0</td>\n      <td>0</td>\n    </tr>\n    <tr>\n      <th>119041</th>\n      <td>15027</td>\n      <td>WARRINGTON</td>\n      <td>UK</td>\n      <td>27</td>\n      <td>53.383333</td>\n      <td>-2.05</td>\n      <td>1945-10-22</td>\n      <td>NaN</td>\n      <td>NaN</td>\n      <td>NaN</td>\n      <td>58.0</td>\n      <td>48.0</td>\n      <td>53.0</td>\n      <td>0</td>\n    </tr>\n  </tbody>\n</table>\n<p>119042 rows × 14 columns</p>\n</div>"
     },
     "metadata": {},
     "execution_count": 13
    }
   ],
   "source": [
    "data_station_df = weather_station_merged_df.drop(columns=[\"LAT\",\"LON\",\"STA\",\"Precip\",\"WindGustSpd\",\"MaxTemp\",\"MinTemp\",\"MeanTemp\",\"Snowfall\",\"PoorWeather\",\"YR\",\"MO\",\"DA\",\"SND\",\"FT\",\"FB\",\"FTI\",\"ITH\",\"PGT\",\"TSHDSBRSGF\",\"SD3\", \"RHX\",\"RHN\",\"RVG\",\"WTE\"])\n",
    "data_station_df"
   ]
  },
  {
   "cell_type": "code",
   "execution_count": 15,
   "metadata": {},
   "outputs": [],
   "source": [
    "data_station_df.to_csv('Resources/weather_combined.csv')"
   ]
  },
  {
   "cell_type": "code",
   "execution_count": null,
   "metadata": {},
   "outputs": [],
   "source": []
  }
 ]
}