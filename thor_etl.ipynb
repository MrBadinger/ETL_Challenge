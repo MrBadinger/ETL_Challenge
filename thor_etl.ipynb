{
 "cells": [
  {
   "cell_type": "code",
   "execution_count": null,
   "metadata": {},
   "outputs": [],
   "source": [
    "import pandas as pd\n",
    "from sqlalchemy import create_engine\n",
    "from config import password\n",
    "\n",
    "rds_connection_string = f'postgres:{password}@localhost:5432/thor'\n",
    "engine = create_engine(f'postgresql://{rds_connection_string}')"
   ]
  },
  {
   "cell_type": "code",
   "execution_count": null,
   "metadata": {},
   "outputs": [],
   "source": [
    "# display the table names in the thor database\n",
    "engine.table_names()"
   ]
  },
  {
   "cell_type": "code",
   "execution_count": null,
   "metadata": {},
   "outputs": [],
   "source": [
    "# path to the THOR_WWII_AIRCRAFT_GLOSS.csv file\n",
    "aircraft_csv = \"./Resources/THOR_WWII_AIRCRAFT_GLOSS.csv\"\n",
    "\n",
    "# load the THOR_WWII_AIRCRAFT_GLOSS.csv file into a df\n",
    "aircraft_df = pd.read_csv(aircraft_csv)\n",
    "aircraft_df.head()"
   ]
  },
  {
   "cell_type": "code",
   "execution_count": null,
   "metadata": {},
   "outputs": [],
   "source": [
    "# Create a new dataframe with the fields needed for the insert\n",
    "new_aircraft_df = aircraft_df[['AIRCRAFT', 'NAME', 'FULL_NAME', 'AIRCRAFT_TYPE','HYPERLINK']].copy()\n",
    "new_aircraft_df = new_aircraft_df.rename(columns={\n",
    "                                                    'AIRCRAFT': 'aircraft', \n",
    "                                                    'NAME': 'name',\n",
    "                                                    'FULL_NAME': 'full_name',\n",
    "                                                    'AIRCRAFT_TYPE':'aircraft_type',\n",
    "                                                    'HYPERLINK':'hyperlink'\n",
    "})\n",
    "\n",
    "new_aircraft_df.head()"
   ]
  },
  {
   "cell_type": "code",
   "execution_count": null,
   "metadata": {},
   "outputs": [],
   "source": [
    "# load the data into the table\n",
    "new_aircraft_df.to_sql(name='thor_wwii_aircraft', con=engine, if_exists='append', index=False)"
   ]
  },
  {
   "cell_type": "code",
   "execution_count": null,
   "metadata": {},
   "outputs": [],
   "source": [
    "# test that the data was loaded into the database\n",
    "pd.read_sql_query('select * from thor_wwii_aircraft', con=engine).head()"
   ]
  },
  {
   "cell_type": "code",
   "execution_count": null,
   "metadata": {},
   "outputs": [],
   "source": []
  }
 ],
 "metadata": {
  "kernelspec": {
   "display_name": "Python [conda env:.conda-PythonData] *",
   "language": "python",
   "name": "conda-env-.conda-PythonData-py"
  },
  "language_info": {
   "codemirror_mode": {
    "name": "ipython",
    "version": 3
   },
   "file_extension": ".py",
   "mimetype": "text/x-python",
   "name": "python",
   "nbconvert_exporter": "python",
   "pygments_lexer": "ipython3",
   "version": "3.6.10"
  }
 },
 "nbformat": 4,
 "nbformat_minor": 4
}
